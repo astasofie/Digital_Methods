{
 "cells": [
  {
   "cell_type": "code",
   "execution_count": 1,
   "metadata": {},
   "outputs": [],
   "source": [
    "import tweepy\n",
    "import networkx as nx\n",
    "import pandas as pd\n",
    "from time import sleep\n",
    "import datetime"
   ]
  },
  {
   "cell_type": "code",
   "execution_count": 2,
   "metadata": {},
   "outputs": [],
   "source": [
    "df = pd.read_csv('tweetLDA20192021.csv') "
   ]
  },
  {
   "cell_type": "code",
   "execution_count": 3,
   "metadata": {
    "scrolled": true
   },
   "outputs": [
    {
     "data": {
      "text/html": [
       "<div>\n",
       "<style scoped>\n",
       "    .dataframe tbody tr th:only-of-type {\n",
       "        vertical-align: middle;\n",
       "    }\n",
       "\n",
       "    .dataframe tbody tr th {\n",
       "        vertical-align: top;\n",
       "    }\n",
       "\n",
       "    .dataframe thead th {\n",
       "        text-align: right;\n",
       "    }\n",
       "</style>\n",
       "<table border=\"1\" class=\"dataframe\">\n",
       "  <thead>\n",
       "    <tr style=\"text-align: right;\">\n",
       "      <th></th>\n",
       "      <th>Unnamed: 0</th>\n",
       "      <th>Unnamed: 0.1</th>\n",
       "      <th>name</th>\n",
       "      <th>screen_name</th>\n",
       "      <th>id_str</th>\n",
       "      <th>location</th>\n",
       "      <th>description</th>\n",
       "      <th>followers_count</th>\n",
       "      <th>friends_count</th>\n",
       "      <th>statuses_count</th>\n",
       "      <th>...</th>\n",
       "      <th>tweet_created_at</th>\n",
       "      <th>is_retweet</th>\n",
       "      <th>tweet_txt</th>\n",
       "      <th>mentions</th>\n",
       "      <th>hashtags</th>\n",
       "      <th>retweet_user</th>\n",
       "      <th>text_proc</th>\n",
       "      <th>text_stemmed_no_stopwords</th>\n",
       "      <th>unigrams</th>\n",
       "      <th>bigrams</th>\n",
       "    </tr>\n",
       "  </thead>\n",
       "  <tbody>\n",
       "    <tr>\n",
       "      <th>0</th>\n",
       "      <td>0</td>\n",
       "      <td>0</td>\n",
       "      <td>Alternativet</td>\n",
       "      <td>alternativet_</td>\n",
       "      <td>1704527995</td>\n",
       "      <td>NaN</td>\n",
       "      <td>Alternativet er for mennesker, der ønsker en s...</td>\n",
       "      <td>30210.0</td>\n",
       "      <td>3816.0</td>\n",
       "      <td>29702.0</td>\n",
       "      <td>...</td>\n",
       "      <td>2021-06-03 07:19:50</td>\n",
       "      <td>True</td>\n",
       "      <td>Vi skal give familierne omsorg, så de får over...</td>\n",
       "      <td>['Mira81743596', 'alternativet_', 'informeren']</td>\n",
       "      <td>['bæredygtigtliv', 'dkpol']</td>\n",
       "      <td>NHOERUP</td>\n",
       "      <td>['vi', 'skal', 'give', 'familierne', 'omsorg',...</td>\n",
       "      <td>giv famili omsorg så får overskud giv natur om...</td>\n",
       "      <td>['giv', 'famili', 'omsorg', 'så', 'får', 'over...</td>\n",
       "      <td>['giv_famili', 'famili_omsorg', 'omsorg_så', '...</td>\n",
       "    </tr>\n",
       "    <tr>\n",
       "      <th>1</th>\n",
       "      <td>1</td>\n",
       "      <td>1</td>\n",
       "      <td>Alternativet</td>\n",
       "      <td>alternativet_</td>\n",
       "      <td>1704527995</td>\n",
       "      <td>NaN</td>\n",
       "      <td>Alternativet er for mennesker, der ønsker en s...</td>\n",
       "      <td>30210.0</td>\n",
       "      <td>3816.0</td>\n",
       "      <td>29702.0</td>\n",
       "      <td>...</td>\n",
       "      <td>2021-06-03 06:37:54</td>\n",
       "      <td>False</td>\n",
       "      <td>Den grønne Å-fane var stærkt til stede i går v...</td>\n",
       "      <td>[]</td>\n",
       "      <td>['klimalovbrud']</td>\n",
       "      <td>NaN</td>\n",
       "      <td>['den', 'grønne', 'å-fane', 'var', 'stærkt', '...</td>\n",
       "      <td>grøn å-fan stærk sted går ved #klimalovbrud de...</td>\n",
       "      <td>['grøn', 'å-fan', 'stærk', 'sted', 'går', 'ved...</td>\n",
       "      <td>['grøn_å-fan', 'å-fan_stærk', 'stærk_sted', 's...</td>\n",
       "    </tr>\n",
       "  </tbody>\n",
       "</table>\n",
       "<p>2 rows × 22 columns</p>\n",
       "</div>"
      ],
      "text/plain": [
       "   Unnamed: 0  Unnamed: 0.1          name    screen_name      id_str location  \\\n",
       "0           0             0  Alternativet  alternativet_  1704527995      NaN   \n",
       "1           1             1  Alternativet  alternativet_  1704527995      NaN   \n",
       "\n",
       "                                         description  followers_count  \\\n",
       "0  Alternativet er for mennesker, der ønsker en s...          30210.0   \n",
       "1  Alternativet er for mennesker, der ønsker en s...          30210.0   \n",
       "\n",
       "   friends_count  statuses_count  ...     tweet_created_at  is_retweet  \\\n",
       "0         3816.0         29702.0  ...  2021-06-03 07:19:50        True   \n",
       "1         3816.0         29702.0  ...  2021-06-03 06:37:54       False   \n",
       "\n",
       "                                           tweet_txt  \\\n",
       "0  Vi skal give familierne omsorg, så de får over...   \n",
       "1  Den grønne Å-fane var stærkt til stede i går v...   \n",
       "\n",
       "                                          mentions  \\\n",
       "0  ['Mira81743596', 'alternativet_', 'informeren']   \n",
       "1                                               []   \n",
       "\n",
       "                      hashtags retweet_user  \\\n",
       "0  ['bæredygtigtliv', 'dkpol']      NHOERUP   \n",
       "1             ['klimalovbrud']          NaN   \n",
       "\n",
       "                                           text_proc  \\\n",
       "0  ['vi', 'skal', 'give', 'familierne', 'omsorg',...   \n",
       "1  ['den', 'grønne', 'å-fane', 'var', 'stærkt', '...   \n",
       "\n",
       "                           text_stemmed_no_stopwords  \\\n",
       "0  giv famili omsorg så får overskud giv natur om...   \n",
       "1  grøn å-fan stærk sted går ved #klimalovbrud de...   \n",
       "\n",
       "                                            unigrams  \\\n",
       "0  ['giv', 'famili', 'omsorg', 'så', 'får', 'over...   \n",
       "1  ['grøn', 'å-fan', 'stærk', 'sted', 'går', 'ved...   \n",
       "\n",
       "                                             bigrams  \n",
       "0  ['giv_famili', 'famili_omsorg', 'omsorg_så', '...  \n",
       "1  ['grøn_å-fan', 'å-fan_stærk', 'stærk_sted', 's...  \n",
       "\n",
       "[2 rows x 22 columns]"
      ]
     },
     "execution_count": 3,
     "metadata": {},
     "output_type": "execute_result"
    }
   ],
   "source": [
    "df.head(2)"
   ]
  },
  {
   "cell_type": "code",
   "execution_count": 4,
   "metadata": {},
   "outputs": [],
   "source": [
    "df=df.drop(['Unnamed: 0.1'], axis=1)"
   ]
  },
  {
   "cell_type": "code",
   "execution_count": 5,
   "metadata": {},
   "outputs": [],
   "source": [
    "df=df.drop(['Unnamed: 0'], axis=1)"
   ]
  },
  {
   "cell_type": "code",
   "execution_count": 6,
   "metadata": {},
   "outputs": [],
   "source": [
    "df = df.drop(['location'], axis=1)"
   ]
  },
  {
   "cell_type": "code",
   "execution_count": 7,
   "metadata": {},
   "outputs": [
    {
     "data": {
      "text/html": [
       "<div>\n",
       "<style scoped>\n",
       "    .dataframe tbody tr th:only-of-type {\n",
       "        vertical-align: middle;\n",
       "    }\n",
       "\n",
       "    .dataframe tbody tr th {\n",
       "        vertical-align: top;\n",
       "    }\n",
       "\n",
       "    .dataframe thead th {\n",
       "        text-align: right;\n",
       "    }\n",
       "</style>\n",
       "<table border=\"1\" class=\"dataframe\">\n",
       "  <thead>\n",
       "    <tr style=\"text-align: right;\">\n",
       "      <th></th>\n",
       "      <th>name</th>\n",
       "      <th>screen_name</th>\n",
       "      <th>id_str</th>\n",
       "      <th>description</th>\n",
       "      <th>followers_count</th>\n",
       "      <th>friends_count</th>\n",
       "      <th>statuses_count</th>\n",
       "      <th>user_created_at</th>\n",
       "      <th>tweet_id</th>\n",
       "      <th>tweet_created_at</th>\n",
       "      <th>is_retweet</th>\n",
       "      <th>tweet_txt</th>\n",
       "      <th>mentions</th>\n",
       "      <th>hashtags</th>\n",
       "      <th>retweet_user</th>\n",
       "      <th>text_proc</th>\n",
       "      <th>text_stemmed_no_stopwords</th>\n",
       "      <th>unigrams</th>\n",
       "      <th>bigrams</th>\n",
       "    </tr>\n",
       "  </thead>\n",
       "  <tbody>\n",
       "    <tr>\n",
       "      <th>0</th>\n",
       "      <td>Alternativet</td>\n",
       "      <td>alternativet_</td>\n",
       "      <td>1704527995</td>\n",
       "      <td>Alternativet er for mennesker, der ønsker en s...</td>\n",
       "      <td>30210.0</td>\n",
       "      <td>3816.0</td>\n",
       "      <td>29702.0</td>\n",
       "      <td>Tue Aug 27 11:53:50 +0000 2013</td>\n",
       "      <td>1.400352e+18</td>\n",
       "      <td>2021-06-03 07:19:50</td>\n",
       "      <td>True</td>\n",
       "      <td>Vi skal give familierne omsorg, så de får over...</td>\n",
       "      <td>['Mira81743596', 'alternativet_', 'informeren']</td>\n",
       "      <td>['bæredygtigtliv', 'dkpol']</td>\n",
       "      <td>NHOERUP</td>\n",
       "      <td>['vi', 'skal', 'give', 'familierne', 'omsorg',...</td>\n",
       "      <td>giv famili omsorg så får overskud giv natur om...</td>\n",
       "      <td>['giv', 'famili', 'omsorg', 'så', 'får', 'over...</td>\n",
       "      <td>['giv_famili', 'famili_omsorg', 'omsorg_så', '...</td>\n",
       "    </tr>\n",
       "  </tbody>\n",
       "</table>\n",
       "</div>"
      ],
      "text/plain": [
       "           name    screen_name      id_str  \\\n",
       "0  Alternativet  alternativet_  1704527995   \n",
       "\n",
       "                                         description  followers_count  \\\n",
       "0  Alternativet er for mennesker, der ønsker en s...          30210.0   \n",
       "\n",
       "   friends_count  statuses_count                 user_created_at  \\\n",
       "0         3816.0         29702.0  Tue Aug 27 11:53:50 +0000 2013   \n",
       "\n",
       "       tweet_id     tweet_created_at  is_retweet  \\\n",
       "0  1.400352e+18  2021-06-03 07:19:50        True   \n",
       "\n",
       "                                           tweet_txt  \\\n",
       "0  Vi skal give familierne omsorg, så de får over...   \n",
       "\n",
       "                                          mentions  \\\n",
       "0  ['Mira81743596', 'alternativet_', 'informeren']   \n",
       "\n",
       "                      hashtags retweet_user  \\\n",
       "0  ['bæredygtigtliv', 'dkpol']      NHOERUP   \n",
       "\n",
       "                                           text_proc  \\\n",
       "0  ['vi', 'skal', 'give', 'familierne', 'omsorg',...   \n",
       "\n",
       "                           text_stemmed_no_stopwords  \\\n",
       "0  giv famili omsorg så får overskud giv natur om...   \n",
       "\n",
       "                                            unigrams  \\\n",
       "0  ['giv', 'famili', 'omsorg', 'så', 'får', 'over...   \n",
       "\n",
       "                                             bigrams  \n",
       "0  ['giv_famili', 'famili_omsorg', 'omsorg_så', '...  "
      ]
     },
     "execution_count": 7,
     "metadata": {},
     "output_type": "execute_result"
    }
   ],
   "source": [
    "df.head(1)"
   ]
  },
  {
   "cell_type": "code",
   "execution_count": 7,
   "metadata": {},
   "outputs": [],
   "source": [
    "pd.set_option('display.max_columns', 500)\n",
    "pd.set_option('display.max_rows', 5000)"
   ]
  },
  {
   "cell_type": "code",
   "execution_count": 28,
   "metadata": {},
   "outputs": [
    {
     "data": {
      "text/html": [
       "<div>\n",
       "<style scoped>\n",
       "    .dataframe tbody tr th:only-of-type {\n",
       "        vertical-align: middle;\n",
       "    }\n",
       "\n",
       "    .dataframe tbody tr th {\n",
       "        vertical-align: top;\n",
       "    }\n",
       "\n",
       "    .dataframe thead th {\n",
       "        text-align: right;\n",
       "    }\n",
       "</style>\n",
       "<table border=\"1\" class=\"dataframe\">\n",
       "  <thead>\n",
       "    <tr style=\"text-align: right;\">\n",
       "      <th></th>\n",
       "      <th>name</th>\n",
       "      <th>screen_name</th>\n",
       "      <th>id_str</th>\n",
       "      <th>description</th>\n",
       "      <th>followers_count</th>\n",
       "      <th>friends_count</th>\n",
       "      <th>statuses_count</th>\n",
       "      <th>user_created_at</th>\n",
       "      <th>tweet_id</th>\n",
       "      <th>tweet_created_at</th>\n",
       "      <th>is_retweet</th>\n",
       "      <th>tweet_txt</th>\n",
       "      <th>mentions</th>\n",
       "      <th>hashtags</th>\n",
       "      <th>retweet_user</th>\n",
       "      <th>text_proc</th>\n",
       "      <th>text_stemmed_no_stopwords</th>\n",
       "      <th>unigrams</th>\n",
       "      <th>bigrams</th>\n",
       "    </tr>\n",
       "  </thead>\n",
       "  <tbody>\n",
       "    <tr>\n",
       "      <th>22836</th>\n",
       "      <td>Venstres Ungdom</td>\n",
       "      <td>VUngdom</td>\n",
       "      <td>820941912773365760</td>\n",
       "      <td>Venstres Ungdom er en forening for unge libera...</td>\n",
       "      <td>849.0</td>\n",
       "      <td>117.0</td>\n",
       "      <td>127.0</td>\n",
       "      <td>Mon Jan 16 10:32:59 +0000 2017</td>\n",
       "      <td>1.126089e+18</td>\n",
       "      <td>2019-05-08 11:37:05</td>\n",
       "      <td>False</td>\n",
       "      <td>Massivt velfærdsløft uden skattestigninger. De...</td>\n",
       "      <td>['venstredk']</td>\n",
       "      <td>['dkpol']</td>\n",
       "      <td>NaN</td>\n",
       "      <td>['massivt', 'velfærdsløft', 'uden', 'skattesti...</td>\n",
       "      <td>massivt velfærdsløft uden skattestigning kan l...</td>\n",
       "      <td>['massivt', 'velfærdsløft', 'uden', 'skattesti...</td>\n",
       "      <td>['massivt_velfærdsløft', 'velfærdsløft_uden', ...</td>\n",
       "    </tr>\n",
       "    <tr>\n",
       "      <th>22837</th>\n",
       "      <td>Venstres Ungdom</td>\n",
       "      <td>VUngdom</td>\n",
       "      <td>820941912773365760</td>\n",
       "      <td>Venstres Ungdom er en forening for unge libera...</td>\n",
       "      <td>849.0</td>\n",
       "      <td>117.0</td>\n",
       "      <td>127.0</td>\n",
       "      <td>Mon Jan 16 10:32:59 +0000 2017</td>\n",
       "      <td>1.126063e+18</td>\n",
       "      <td>2019-05-08 09:55:44</td>\n",
       "      <td>False</td>\n",
       "      <td>Efter de første 24 timer med valg er vi ikke i...</td>\n",
       "      <td>['larsloekke']</td>\n",
       "      <td>['dkpol']</td>\n",
       "      <td>NaN</td>\n",
       "      <td>['efter', 'de', 'første', 'timer', 'med', 'val...</td>\n",
       "      <td>først tim valg tvivl midt kaos nye yderfløjspa...</td>\n",
       "      <td>['først', 'tim', 'valg', 'tvivl', 'midt', 'kao...</td>\n",
       "      <td>['først_tim', 'tim_valg', 'valg_tvivl', 'tvivl...</td>\n",
       "    </tr>\n",
       "    <tr>\n",
       "      <th>22838</th>\n",
       "      <td>Venstres Ungdom</td>\n",
       "      <td>VUngdom</td>\n",
       "      <td>820941912773365760</td>\n",
       "      <td>Venstres Ungdom er en forening for unge libera...</td>\n",
       "      <td>849.0</td>\n",
       "      <td>117.0</td>\n",
       "      <td>127.0</td>\n",
       "      <td>Mon Jan 16 10:32:59 +0000 2017</td>\n",
       "      <td>1.125816e+18</td>\n",
       "      <td>2019-05-07 17:32:43</td>\n",
       "      <td>True</td>\n",
       "      <td>.@VUngdom er klar til at kæmpe for fire år mer...</td>\n",
       "      <td>['VUngdom']</td>\n",
       "      <td>['dkpol']</td>\n",
       "      <td>JakobSabroe</td>\n",
       "      <td>['vungdom', 'er', 'klar', 'til', 'at', 'kæmpe'...</td>\n",
       "      <td>vungdom klar kæmp fir år mer #dkpol</td>\n",
       "      <td>['vungdom', 'klar', 'kæmp', 'fir', 'år', 'mer'...</td>\n",
       "      <td>['vungdom_klar', 'klar_kæmp', 'kæmp_fir', 'fir...</td>\n",
       "    </tr>\n",
       "    <tr>\n",
       "      <th>22839</th>\n",
       "      <td>Venstres Ungdom</td>\n",
       "      <td>VUngdom</td>\n",
       "      <td>820941912773365760</td>\n",
       "      <td>Venstres Ungdom er en forening for unge libera...</td>\n",
       "      <td>849.0</td>\n",
       "      <td>117.0</td>\n",
       "      <td>127.0</td>\n",
       "      <td>Mon Jan 16 10:32:59 +0000 2017</td>\n",
       "      <td>1.124289e+18</td>\n",
       "      <td>2019-05-03 12:24:38</td>\n",
       "      <td>True</td>\n",
       "      <td>BEDRAG: En serie om svindel, fup og løgne. \\n\\...</td>\n",
       "      <td>[]</td>\n",
       "      <td>['dkpol', 'dkmedier']</td>\n",
       "      <td>JakobSabroe</td>\n",
       "      <td>['bedrag', 'en', 'serie', 'om', 'svindel', 'fu...</td>\n",
       "      <td>bedrag seri svindel fup løgn socialdemokrati b...</td>\n",
       "      <td>['bedrag', 'seri', 'svindel', 'fup', 'løgn', '...</td>\n",
       "      <td>['bedrag_seri', 'seri_svindel', 'svindel_fup',...</td>\n",
       "    </tr>\n",
       "    <tr>\n",
       "      <th>22840</th>\n",
       "      <td>Venstres Ungdom</td>\n",
       "      <td>VUngdom</td>\n",
       "      <td>820941912773365760</td>\n",
       "      <td>Venstres Ungdom er en forening for unge libera...</td>\n",
       "      <td>849.0</td>\n",
       "      <td>117.0</td>\n",
       "      <td>127.0</td>\n",
       "      <td>Mon Jan 16 10:32:59 +0000 2017</td>\n",
       "      <td>1.104311e+18</td>\n",
       "      <td>2019-03-09 09:20:38</td>\n",
       "      <td>True</td>\n",
       "      <td>Fordi  #kvinderneskampdag også handler om at s...</td>\n",
       "      <td>['VUngdom']</td>\n",
       "      <td>['kvinderneskampdag', 'dkpol']</td>\n",
       "      <td>SSNielsen_</td>\n",
       "      <td>['fordi', '#kvinderneskampdag', 'også', 'handl...</td>\n",
       "      <td>fordi #kvinderneskampdag handl sig nej tak kvo...</td>\n",
       "      <td>['fordi', '#kvinderneskampdag', 'handl', 'sig'...</td>\n",
       "      <td>['fordi_#kvinderneskampdag', '#kvinderneskampd...</td>\n",
       "    </tr>\n",
       "    <tr>\n",
       "      <th>22841</th>\n",
       "      <td>Venstres Ungdom</td>\n",
       "      <td>VUngdom</td>\n",
       "      <td>820941912773365760</td>\n",
       "      <td>Venstres Ungdom er en forening for unge libera...</td>\n",
       "      <td>849.0</td>\n",
       "      <td>117.0</td>\n",
       "      <td>127.0</td>\n",
       "      <td>Mon Jan 16 10:32:59 +0000 2017</td>\n",
       "      <td>1.090137e+18</td>\n",
       "      <td>2019-01-29 06:38:38</td>\n",
       "      <td>False</td>\n",
       "      <td>VI KÆMPER FOR AT AFSKAFFE TOPSKATTEN! 💰\\n\\nIng...</td>\n",
       "      <td>[]</td>\n",
       "      <td>[]</td>\n",
       "      <td>NaN</td>\n",
       "      <td>['vi', 'kæmper', 'for', 'at', 'afskaffe', 'top...</td>\n",
       "      <td>kæmp afskaf topskat 💰 ing straf arbejd hård ta...</td>\n",
       "      <td>['kæmp', 'afskaf', 'topskat', '💰', 'ing', 'str...</td>\n",
       "      <td>['kæmp_afskaf', 'afskaf_topskat', 'topskat_💰',...</td>\n",
       "    </tr>\n",
       "    <tr>\n",
       "      <th>22842</th>\n",
       "      <td>Venstres Ungdom</td>\n",
       "      <td>VUngdom</td>\n",
       "      <td>820941912773365760</td>\n",
       "      <td>Venstres Ungdom er en forening for unge libera...</td>\n",
       "      <td>849.0</td>\n",
       "      <td>117.0</td>\n",
       "      <td>127.0</td>\n",
       "      <td>Mon Jan 16 10:32:59 +0000 2017</td>\n",
       "      <td>1.089774e+18</td>\n",
       "      <td>2019-01-28 06:37:08</td>\n",
       "      <td>False</td>\n",
       "      <td>VI KÆMPER FOR KORTERE SKOLEDAGE! 🏫\\n\\nLivet er...</td>\n",
       "      <td>[]</td>\n",
       "      <td>[]</td>\n",
       "      <td>NaN</td>\n",
       "      <td>['vi', 'kæmper', 'for', 'kortere', 'skoledage'...</td>\n",
       "      <td>kæmp kort skoledag 🏫 liv mer bøg undervisning ...</td>\n",
       "      <td>['kæmp', 'kort', 'skoledag', '🏫', 'liv', 'mer'...</td>\n",
       "      <td>['kæmp_kort', 'kort_skoledag', 'skoledag_🏫', '...</td>\n",
       "    </tr>\n",
       "    <tr>\n",
       "      <th>22843</th>\n",
       "      <td>Venstres Ungdom</td>\n",
       "      <td>VUngdom</td>\n",
       "      <td>820941912773365760</td>\n",
       "      <td>Venstres Ungdom er en forening for unge libera...</td>\n",
       "      <td>849.0</td>\n",
       "      <td>117.0</td>\n",
       "      <td>127.0</td>\n",
       "      <td>Mon Jan 16 10:32:59 +0000 2017</td>\n",
       "      <td>1.089553e+18</td>\n",
       "      <td>2019-01-27 15:57:30</td>\n",
       "      <td>True</td>\n",
       "      <td>Venstres Ungdom har idag vedtaget på vores lan...</td>\n",
       "      <td>['venstredk']</td>\n",
       "      <td>['dkpol', 'sundpol']</td>\n",
       "      <td>MariaLagoni</td>\n",
       "      <td>['venstres', 'ungdom', 'har', 'idag', 'vedtage...</td>\n",
       "      <td>venstr ungdom idag vedtag vor landsstyrelsesmø...</td>\n",
       "      <td>['venstr', 'ungdom', 'idag', 'vedtag', 'vor', ...</td>\n",
       "      <td>['venstr_ungdom', 'ungdom_idag', 'idag_vedtag'...</td>\n",
       "    </tr>\n",
       "    <tr>\n",
       "      <th>22844</th>\n",
       "      <td>Venstres Ungdom</td>\n",
       "      <td>VUngdom</td>\n",
       "      <td>820941912773365760</td>\n",
       "      <td>Venstres Ungdom er en forening for unge libera...</td>\n",
       "      <td>849.0</td>\n",
       "      <td>117.0</td>\n",
       "      <td>127.0</td>\n",
       "      <td>Mon Jan 16 10:32:59 +0000 2017</td>\n",
       "      <td>1.087412e+18</td>\n",
       "      <td>2019-01-21 18:08:24</td>\n",
       "      <td>True</td>\n",
       "      <td>Skud ud til de seje og hårdtarbejdende medlemm...</td>\n",
       "      <td>['VUngdom']</td>\n",
       "      <td>[]</td>\n",
       "      <td>JakobSabroe</td>\n",
       "      <td>['skud', 'ud', 'til', 'de', 'seje', 'og', 'hår...</td>\n",
       "      <td>skud sej hårdtarbejd medlem vungdom 👊 🏻</td>\n",
       "      <td>['skud', 'sej', 'hårdtarbejd', 'medlem', 'vung...</td>\n",
       "      <td>['skud_sej', 'sej_hårdtarbejd', 'hårdtarbejd_m...</td>\n",
       "    </tr>\n",
       "    <tr>\n",
       "      <th>22845</th>\n",
       "      <td>Venstres Ungdom</td>\n",
       "      <td>VUngdom</td>\n",
       "      <td>820941912773365760</td>\n",
       "      <td>Venstres Ungdom er en forening for unge libera...</td>\n",
       "      <td>849.0</td>\n",
       "      <td>117.0</td>\n",
       "      <td>127.0</td>\n",
       "      <td>Mon Jan 16 10:32:59 +0000 2017</td>\n",
       "      <td>1.083332e+18</td>\n",
       "      <td>2019-01-10 11:58:35</td>\n",
       "      <td>True</td>\n",
       "      <td>.@Astridkrag i 2019 skulle lytte lidt til @Ast...</td>\n",
       "      <td>['Astridkrag', 'Astridkrag', 'Spolitik', 'laeg...</td>\n",
       "      <td>['dkpol', 'sundpol']</td>\n",
       "      <td>JakobSabroe</td>\n",
       "      <td>['astridkrag', 'i', 'skulle', 'lytte', 'lidt',...</td>\n",
       "      <td>astridkrag lyt lidt astridkrag spolitik imod t...</td>\n",
       "      <td>['astridkrag', 'lyt', 'lidt', 'astridkrag', 's...</td>\n",
       "      <td>['astridkrag_lyt', 'lyt_lidt', 'lidt_astridkra...</td>\n",
       "    </tr>\n",
       "  </tbody>\n",
       "</table>\n",
       "</div>"
      ],
      "text/plain": [
       "                  name screen_name              id_str  \\\n",
       "22836  Venstres Ungdom     VUngdom  820941912773365760   \n",
       "22837  Venstres Ungdom     VUngdom  820941912773365760   \n",
       "22838  Venstres Ungdom     VUngdom  820941912773365760   \n",
       "22839  Venstres Ungdom     VUngdom  820941912773365760   \n",
       "22840  Venstres Ungdom     VUngdom  820941912773365760   \n",
       "22841  Venstres Ungdom     VUngdom  820941912773365760   \n",
       "22842  Venstres Ungdom     VUngdom  820941912773365760   \n",
       "22843  Venstres Ungdom     VUngdom  820941912773365760   \n",
       "22844  Venstres Ungdom     VUngdom  820941912773365760   \n",
       "22845  Venstres Ungdom     VUngdom  820941912773365760   \n",
       "\n",
       "                                             description  followers_count  \\\n",
       "22836  Venstres Ungdom er en forening for unge libera...            849.0   \n",
       "22837  Venstres Ungdom er en forening for unge libera...            849.0   \n",
       "22838  Venstres Ungdom er en forening for unge libera...            849.0   \n",
       "22839  Venstres Ungdom er en forening for unge libera...            849.0   \n",
       "22840  Venstres Ungdom er en forening for unge libera...            849.0   \n",
       "22841  Venstres Ungdom er en forening for unge libera...            849.0   \n",
       "22842  Venstres Ungdom er en forening for unge libera...            849.0   \n",
       "22843  Venstres Ungdom er en forening for unge libera...            849.0   \n",
       "22844  Venstres Ungdom er en forening for unge libera...            849.0   \n",
       "22845  Venstres Ungdom er en forening for unge libera...            849.0   \n",
       "\n",
       "       friends_count  statuses_count                 user_created_at  \\\n",
       "22836          117.0           127.0  Mon Jan 16 10:32:59 +0000 2017   \n",
       "22837          117.0           127.0  Mon Jan 16 10:32:59 +0000 2017   \n",
       "22838          117.0           127.0  Mon Jan 16 10:32:59 +0000 2017   \n",
       "22839          117.0           127.0  Mon Jan 16 10:32:59 +0000 2017   \n",
       "22840          117.0           127.0  Mon Jan 16 10:32:59 +0000 2017   \n",
       "22841          117.0           127.0  Mon Jan 16 10:32:59 +0000 2017   \n",
       "22842          117.0           127.0  Mon Jan 16 10:32:59 +0000 2017   \n",
       "22843          117.0           127.0  Mon Jan 16 10:32:59 +0000 2017   \n",
       "22844          117.0           127.0  Mon Jan 16 10:32:59 +0000 2017   \n",
       "22845          117.0           127.0  Mon Jan 16 10:32:59 +0000 2017   \n",
       "\n",
       "           tweet_id     tweet_created_at  is_retweet  \\\n",
       "22836  1.126089e+18  2019-05-08 11:37:05       False   \n",
       "22837  1.126063e+18  2019-05-08 09:55:44       False   \n",
       "22838  1.125816e+18  2019-05-07 17:32:43        True   \n",
       "22839  1.124289e+18  2019-05-03 12:24:38        True   \n",
       "22840  1.104311e+18  2019-03-09 09:20:38        True   \n",
       "22841  1.090137e+18  2019-01-29 06:38:38       False   \n",
       "22842  1.089774e+18  2019-01-28 06:37:08       False   \n",
       "22843  1.089553e+18  2019-01-27 15:57:30        True   \n",
       "22844  1.087412e+18  2019-01-21 18:08:24        True   \n",
       "22845  1.083332e+18  2019-01-10 11:58:35        True   \n",
       "\n",
       "                                               tweet_txt  \\\n",
       "22836  Massivt velfærdsløft uden skattestigninger. De...   \n",
       "22837  Efter de første 24 timer med valg er vi ikke i...   \n",
       "22838  .@VUngdom er klar til at kæmpe for fire år mer...   \n",
       "22839  BEDRAG: En serie om svindel, fup og løgne. \\n\\...   \n",
       "22840  Fordi  #kvinderneskampdag også handler om at s...   \n",
       "22841  VI KÆMPER FOR AT AFSKAFFE TOPSKATTEN! 💰\\n\\nIng...   \n",
       "22842  VI KÆMPER FOR KORTERE SKOLEDAGE! 🏫\\n\\nLivet er...   \n",
       "22843  Venstres Ungdom har idag vedtaget på vores lan...   \n",
       "22844  Skud ud til de seje og hårdtarbejdende medlemm...   \n",
       "22845  .@Astridkrag i 2019 skulle lytte lidt til @Ast...   \n",
       "\n",
       "                                                mentions  \\\n",
       "22836                                      ['venstredk']   \n",
       "22837                                     ['larsloekke']   \n",
       "22838                                        ['VUngdom']   \n",
       "22839                                                 []   \n",
       "22840                                        ['VUngdom']   \n",
       "22841                                                 []   \n",
       "22842                                                 []   \n",
       "22843                                      ['venstredk']   \n",
       "22844                                        ['VUngdom']   \n",
       "22845  ['Astridkrag', 'Astridkrag', 'Spolitik', 'laeg...   \n",
       "\n",
       "                             hashtags retweet_user  \\\n",
       "22836                       ['dkpol']          NaN   \n",
       "22837                       ['dkpol']          NaN   \n",
       "22838                       ['dkpol']  JakobSabroe   \n",
       "22839           ['dkpol', 'dkmedier']  JakobSabroe   \n",
       "22840  ['kvinderneskampdag', 'dkpol']   SSNielsen_   \n",
       "22841                              []          NaN   \n",
       "22842                              []          NaN   \n",
       "22843            ['dkpol', 'sundpol']  MariaLagoni   \n",
       "22844                              []  JakobSabroe   \n",
       "22845            ['dkpol', 'sundpol']  JakobSabroe   \n",
       "\n",
       "                                               text_proc  \\\n",
       "22836  ['massivt', 'velfærdsløft', 'uden', 'skattesti...   \n",
       "22837  ['efter', 'de', 'første', 'timer', 'med', 'val...   \n",
       "22838  ['vungdom', 'er', 'klar', 'til', 'at', 'kæmpe'...   \n",
       "22839  ['bedrag', 'en', 'serie', 'om', 'svindel', 'fu...   \n",
       "22840  ['fordi', '#kvinderneskampdag', 'også', 'handl...   \n",
       "22841  ['vi', 'kæmper', 'for', 'at', 'afskaffe', 'top...   \n",
       "22842  ['vi', 'kæmper', 'for', 'kortere', 'skoledage'...   \n",
       "22843  ['venstres', 'ungdom', 'har', 'idag', 'vedtage...   \n",
       "22844  ['skud', 'ud', 'til', 'de', 'seje', 'og', 'hår...   \n",
       "22845  ['astridkrag', 'i', 'skulle', 'lytte', 'lidt',...   \n",
       "\n",
       "                               text_stemmed_no_stopwords  \\\n",
       "22836  massivt velfærdsløft uden skattestigning kan l...   \n",
       "22837  først tim valg tvivl midt kaos nye yderfløjspa...   \n",
       "22838                vungdom klar kæmp fir år mer #dkpol   \n",
       "22839  bedrag seri svindel fup løgn socialdemokrati b...   \n",
       "22840  fordi #kvinderneskampdag handl sig nej tak kvo...   \n",
       "22841  kæmp afskaf topskat 💰 ing straf arbejd hård ta...   \n",
       "22842  kæmp kort skoledag 🏫 liv mer bøg undervisning ...   \n",
       "22843  venstr ungdom idag vedtag vor landsstyrelsesmø...   \n",
       "22844            skud sej hårdtarbejd medlem vungdom 👊 🏻   \n",
       "22845  astridkrag lyt lidt astridkrag spolitik imod t...   \n",
       "\n",
       "                                                unigrams  \\\n",
       "22836  ['massivt', 'velfærdsløft', 'uden', 'skattesti...   \n",
       "22837  ['først', 'tim', 'valg', 'tvivl', 'midt', 'kao...   \n",
       "22838  ['vungdom', 'klar', 'kæmp', 'fir', 'år', 'mer'...   \n",
       "22839  ['bedrag', 'seri', 'svindel', 'fup', 'løgn', '...   \n",
       "22840  ['fordi', '#kvinderneskampdag', 'handl', 'sig'...   \n",
       "22841  ['kæmp', 'afskaf', 'topskat', '💰', 'ing', 'str...   \n",
       "22842  ['kæmp', 'kort', 'skoledag', '🏫', 'liv', 'mer'...   \n",
       "22843  ['venstr', 'ungdom', 'idag', 'vedtag', 'vor', ...   \n",
       "22844  ['skud', 'sej', 'hårdtarbejd', 'medlem', 'vung...   \n",
       "22845  ['astridkrag', 'lyt', 'lidt', 'astridkrag', 's...   \n",
       "\n",
       "                                                 bigrams  \n",
       "22836  ['massivt_velfærdsløft', 'velfærdsløft_uden', ...  \n",
       "22837  ['først_tim', 'tim_valg', 'valg_tvivl', 'tvivl...  \n",
       "22838  ['vungdom_klar', 'klar_kæmp', 'kæmp_fir', 'fir...  \n",
       "22839  ['bedrag_seri', 'seri_svindel', 'svindel_fup',...  \n",
       "22840  ['fordi_#kvinderneskampdag', '#kvinderneskampd...  \n",
       "22841  ['kæmp_afskaf', 'afskaf_topskat', 'topskat_💰',...  \n",
       "22842  ['kæmp_kort', 'kort_skoledag', 'skoledag_🏫', '...  \n",
       "22843  ['venstr_ungdom', 'ungdom_idag', 'idag_vedtag'...  \n",
       "22844  ['skud_sej', 'sej_hårdtarbejd', 'hårdtarbejd_m...  \n",
       "22845  ['astridkrag_lyt', 'lyt_lidt', 'lidt_astridkra...  "
      ]
     },
     "execution_count": 28,
     "metadata": {},
     "output_type": "execute_result"
    }
   ],
   "source": [
    "df.tail(10)"
   ]
  },
  {
   "cell_type": "code",
   "execution_count": 8,
   "metadata": {},
   "outputs": [
    {
     "data": {
      "text/plain": [
       "22846"
      ]
     },
     "execution_count": 8,
     "metadata": {},
     "output_type": "execute_result"
    }
   ],
   "source": [
    "len(df)"
   ]
  },
  {
   "cell_type": "code",
   "execution_count": 9,
   "metadata": {},
   "outputs": [],
   "source": [
    "#Removing tweets that no longer contain meaning after preprocessing\n",
    "df2 = df[pd.notnull(df['text_stemmed_no_stopwords'])]"
   ]
  },
  {
   "cell_type": "code",
   "execution_count": 10,
   "metadata": {},
   "outputs": [
    {
     "data": {
      "text/plain": [
       "22799"
      ]
     },
     "execution_count": 10,
     "metadata": {},
     "output_type": "execute_result"
    }
   ],
   "source": [
    "len(df2)"
   ]
  },
  {
   "cell_type": "code",
   "execution_count": 11,
   "metadata": {},
   "outputs": [],
   "source": [
    "new_df = df2.drop(['name'], axis=1)"
   ]
  },
  {
   "cell_type": "code",
   "execution_count": 12,
   "metadata": {},
   "outputs": [],
   "source": [
    "new_df = new_df.drop(['description'], axis=1)\n",
    "new_df = new_df.drop(['followers_count'], axis=1)\n",
    "new_df = new_df.drop(['friends_count'], axis=1)\n",
    "new_df = new_df.drop(['statuses_count'], axis=1)\n",
    "new_df = new_df.drop(['user_created_at'], axis=1)\n",
    "new_df = new_df.drop(['tweet_id'], axis=1)\n",
    "new_df = new_df.drop(['tweet_created_at'], axis=1)\n",
    "#new_df = new_df.drop(['mentions'], axis=1)\n",
    "new_df = new_df.drop(['hashtags'], axis=1)\n",
    "new_df = new_df.drop(['text_proc'], axis=1)\n",
    "new_df = new_df.drop(['text_stemmed_no_stopwords'], axis=1)\n",
    "new_df = new_df.drop(['unigrams'], axis=1)\n",
    "new_df = new_df.drop(['bigrams'], axis=1)\n",
    "new_df = new_df.drop(['id_str'], axis=1)"
   ]
  },
  {
   "cell_type": "code",
   "execution_count": 14,
   "metadata": {},
   "outputs": [
    {
     "data": {
      "text/html": [
       "<div>\n",
       "<style scoped>\n",
       "    .dataframe tbody tr th:only-of-type {\n",
       "        vertical-align: middle;\n",
       "    }\n",
       "\n",
       "    .dataframe tbody tr th {\n",
       "        vertical-align: top;\n",
       "    }\n",
       "\n",
       "    .dataframe thead th {\n",
       "        text-align: right;\n",
       "    }\n",
       "</style>\n",
       "<table border=\"1\" class=\"dataframe\">\n",
       "  <thead>\n",
       "    <tr style=\"text-align: right;\">\n",
       "      <th></th>\n",
       "      <th>screen_name</th>\n",
       "      <th>is_retweet</th>\n",
       "      <th>tweet_txt</th>\n",
       "      <th>mentions</th>\n",
       "      <th>retweet_user</th>\n",
       "    </tr>\n",
       "  </thead>\n",
       "  <tbody>\n",
       "    <tr>\n",
       "      <th>0</th>\n",
       "      <td>alternativet_</td>\n",
       "      <td>True</td>\n",
       "      <td>Vi skal give familierne omsorg, så de får over...</td>\n",
       "      <td>['Mira81743596', 'alternativet_', 'informeren']</td>\n",
       "      <td>NHOERUP</td>\n",
       "    </tr>\n",
       "    <tr>\n",
       "      <th>1</th>\n",
       "      <td>alternativet_</td>\n",
       "      <td>False</td>\n",
       "      <td>Den grønne Å-fane var stærkt til stede i går v...</td>\n",
       "      <td>[]</td>\n",
       "      <td>NaN</td>\n",
       "    </tr>\n",
       "    <tr>\n",
       "      <th>2</th>\n",
       "      <td>alternativet_</td>\n",
       "      <td>False</td>\n",
       "      <td>På lørdag kl. 16.40 kan du høre vores politisk...</td>\n",
       "      <td>['FranciskaRosenk']</td>\n",
       "      <td>NaN</td>\n",
       "    </tr>\n",
       "    <tr>\n",
       "      <th>3</th>\n",
       "      <td>alternativet_</td>\n",
       "      <td>False</td>\n",
       "      <td>\"Grøn brandtale af @TorstenGejl  slår benene v...</td>\n",
       "      <td>['TorstenGejl']</td>\n",
       "      <td>NaN</td>\n",
       "    </tr>\n",
       "    <tr>\n",
       "      <th>4</th>\n",
       "      <td>alternativet_</td>\n",
       "      <td>False</td>\n",
       "      <td>💪 https://t.co/HHvxFi2CUK</td>\n",
       "      <td>[]</td>\n",
       "      <td>NaN</td>\n",
       "    </tr>\n",
       "  </tbody>\n",
       "</table>\n",
       "</div>"
      ],
      "text/plain": [
       "     screen_name  is_retweet  \\\n",
       "0  alternativet_        True   \n",
       "1  alternativet_       False   \n",
       "2  alternativet_       False   \n",
       "3  alternativet_       False   \n",
       "4  alternativet_       False   \n",
       "\n",
       "                                           tweet_txt  \\\n",
       "0  Vi skal give familierne omsorg, så de får over...   \n",
       "1  Den grønne Å-fane var stærkt til stede i går v...   \n",
       "2  På lørdag kl. 16.40 kan du høre vores politisk...   \n",
       "3  \"Grøn brandtale af @TorstenGejl  slår benene v...   \n",
       "4                          💪 https://t.co/HHvxFi2CUK   \n",
       "\n",
       "                                          mentions retweet_user  \n",
       "0  ['Mira81743596', 'alternativet_', 'informeren']      NHOERUP  \n",
       "1                                               []          NaN  \n",
       "2                              ['FranciskaRosenk']          NaN  \n",
       "3                                  ['TorstenGejl']          NaN  \n",
       "4                                               []          NaN  "
      ]
     },
     "execution_count": 14,
     "metadata": {},
     "output_type": "execute_result"
    }
   ],
   "source": [
    "new_df.head()"
   ]
  },
  {
   "cell_type": "code",
   "execution_count": 15,
   "metadata": {},
   "outputs": [],
   "source": [
    "# Only getting retweets\n",
    "rt_df = new_df[new_df['is_retweet'] == True]"
   ]
  },
  {
   "cell_type": "code",
   "execution_count": 17,
   "metadata": {
    "scrolled": false
   },
   "outputs": [
    {
     "data": {
      "text/plain": [
       "15917"
      ]
     },
     "execution_count": 17,
     "metadata": {},
     "output_type": "execute_result"
    }
   ],
   "source": [
    "len(rt_df)"
   ]
  },
  {
   "cell_type": "code",
   "execution_count": 18,
   "metadata": {},
   "outputs": [],
   "source": [
    "#Retweets with relevant search terms. Netnographicly founded. \n",
    "klima_rt = rt_df[rt_df.apply(lambda row: row.astype(str).str.contains\n",
    "                                  ('klima'or 'grøn' or'miljø' or '#dkgreen' or 'bæredygtig' or 'CO2' or 'green' or 'natur').tweet_txt, axis=1)]"
   ]
  },
  {
   "cell_type": "code",
   "execution_count": 19,
   "metadata": {
    "scrolled": true
   },
   "outputs": [
    {
     "data": {
      "text/plain": [
       "1532"
      ]
     },
     "execution_count": 19,
     "metadata": {},
     "output_type": "execute_result"
    }
   ],
   "source": [
    "len(klima_rt)"
   ]
  },
  {
   "cell_type": "code",
   "execution_count": 21,
   "metadata": {},
   "outputs": [
    {
     "data": {
      "text/html": [
       "<div>\n",
       "<style scoped>\n",
       "    .dataframe tbody tr th:only-of-type {\n",
       "        vertical-align: middle;\n",
       "    }\n",
       "\n",
       "    .dataframe tbody tr th {\n",
       "        vertical-align: top;\n",
       "    }\n",
       "\n",
       "    .dataframe thead th {\n",
       "        text-align: right;\n",
       "    }\n",
       "</style>\n",
       "<table border=\"1\" class=\"dataframe\">\n",
       "  <thead>\n",
       "    <tr style=\"text-align: right;\">\n",
       "      <th></th>\n",
       "      <th>screen_name</th>\n",
       "      <th>is_retweet</th>\n",
       "      <th>tweet_txt</th>\n",
       "      <th>mentions</th>\n",
       "      <th>retweet_user</th>\n",
       "    </tr>\n",
       "  </thead>\n",
       "  <tbody>\n",
       "    <tr>\n",
       "      <th>7</th>\n",
       "      <td>alternativet_</td>\n",
       "      <td>True</td>\n",
       "      <td>Alternativet har spurgt alle støttepartier og ...</td>\n",
       "      <td>[]</td>\n",
       "      <td>TorstenGejl</td>\n",
       "    </tr>\n",
       "    <tr>\n",
       "      <th>16</th>\n",
       "      <td>alternativet_</td>\n",
       "      <td>True</td>\n",
       "      <td>Her til afslutningsdebatten mener statsministe...</td>\n",
       "      <td>['DenGroenneStud']</td>\n",
       "      <td>TorstenGejl</td>\n",
       "    </tr>\n",
       "  </tbody>\n",
       "</table>\n",
       "</div>"
      ],
      "text/plain": [
       "      screen_name  is_retweet  \\\n",
       "7   alternativet_        True   \n",
       "16  alternativet_        True   \n",
       "\n",
       "                                            tweet_txt            mentions  \\\n",
       "7   Alternativet har spurgt alle støttepartier og ...                  []   \n",
       "16  Her til afslutningsdebatten mener statsministe...  ['DenGroenneStud']   \n",
       "\n",
       "   retweet_user  \n",
       "7   TorstenGejl  \n",
       "16  TorstenGejl  "
      ]
     },
     "execution_count": 21,
     "metadata": {},
     "output_type": "execute_result"
    }
   ],
   "source": [
    "klima_rt.head(2)"
   ]
  },
  {
   "cell_type": "code",
   "execution_count": 22,
   "metadata": {},
   "outputs": [
    {
     "name": "stdout",
     "output_type": "stream",
     "text": [
      "17\n",
      "311\n"
     ]
    }
   ],
   "source": [
    "#no. of parties retweeting about climate\n",
    "print(len(klima_rt.screen_name.unique()))\n",
    "\n",
    "#no. of actors being retweeted about climate\n",
    "print(len(klima_rt.retweet_user.unique()))"
   ]
  },
  {
   "cell_type": "code",
   "execution_count": 23,
   "metadata": {},
   "outputs": [
    {
     "name": "stdout",
     "output_type": "stream",
     "text": [
      "        screen_name     retweet_user  simple_count      count\n",
      "0   AlternativeUnge   AllonHSorensen             1   1.000000\n",
      "1   AlternativeUnge    AndreasMulvad             1   1.000000\n",
      "2   AlternativeUnge        AnnaBylov             1   1.000000\n",
      "3   AlternativeUnge      AugustLund0             1   1.000000\n",
      "4   AlternativeUnge        BEsbensen             1   1.000000\n",
      "5   AlternativeUnge    BjarkeCharlie             1   1.000000\n",
      "6   AlternativeUnge    ChristianPoll             1   1.000000\n",
      "7   AlternativeUnge      CoHedegaard             1   1.000000\n",
      "8   AlternativeUnge   Daniel_Hauberg             3   1.933182\n",
      "9   AlternativeUnge       DavidTrads             1   1.000000\n",
      "10  AlternativeUnge   DenGroenneStud             3   1.933182\n",
      "11  AlternativeUnge       Emil_Ipsen             2   1.515717\n",
      "12  AlternativeUnge   FrederikSandby             1   1.000000\n",
      "13  AlternativeUnge         Grantzau             1   1.000000\n",
      "14  AlternativeUnge       JM_Clausen             1   1.000000\n",
      "15  AlternativeUnge  JesperTheilgard             1   1.000000\n",
      "16  AlternativeUnge       Jesper_Pet             1   1.000000\n",
      "17  AlternativeUnge        JiriTrnka             1   1.000000\n",
      "18  AlternativeUnge  JohanHedegaardJ             1   1.000000\n",
      "19  AlternativeUnge   JohnNordboCARE             1   1.000000\n",
      "20  AlternativeUnge      JonBurgwald             1   1.000000\n",
      "21  AlternativeUnge    JonathanRies_             2   1.515717\n",
      "22  AlternativeUnge         Klimabev             1   1.000000\n",
      "23  AlternativeUnge   KristianMadsen             1   1.000000\n",
      "24  AlternativeUnge  Louiselorentze1             1   1.000000\n",
      "25  AlternativeUnge       MadsMogwai             1   1.000000\n",
      "26  AlternativeUnge       MathiasHK_             1   1.000000\n",
      "27  AlternativeUnge       MhbLarsson             2   1.515717\n",
      "28  AlternativeUnge          NOAH_dk             1   1.000000\n",
      "29  AlternativeUnge        NaturThor             1   1.000000\n",
      "30  AlternativeUnge      NillyTaheri             1   1.000000\n",
      "31  AlternativeUnge     OliverWulffJ             7   3.214096\n",
      "32  AlternativeUnge     Oscarschackm             4   2.297397\n",
      "33  AlternativeUnge   RasmusKjeldahl             1   1.000000\n",
      "34  AlternativeUnge      SofieGroth1             1   1.000000\n",
      "35  AlternativeUnge        SorenHave             5   2.626528\n",
      "36  AlternativeUnge       TScavenius             3   1.933182\n",
      "37  AlternativeUnge      TorstenGejl             2   1.515717\n",
      "38  AlternativeUnge      aggerhomien             1   1.000000\n",
      "39  AlternativeUnge    alternativet_            47  10.075317\n",
      "(401, 4)\n"
     ]
    }
   ],
   "source": [
    "rt_nx_agg = klima_rt.groupby([\"screen_name\", \"retweet_user\"]).size().reset_index(name='simple_count')\n",
    "\n",
    "#adding a count where we weigh the retweets of the same actor\n",
    "rt_nx_agg[\"count\"] = rt_nx_agg[\"simple_count\"]**0.6\n",
    "\n",
    "print(rt_nx_agg.head(40))\n",
    "print(rt_nx_agg.shape)"
   ]
  },
  {
   "cell_type": "code",
   "execution_count": 24,
   "metadata": {
    "scrolled": true
   },
   "outputs": [
    {
     "name": "stdout",
     "output_type": "stream",
     "text": [
      "    screen_name     retweet_user  simple_count     count\n",
      "361    rgungdom          Maltesp             1  1.000000\n",
      "362    rgungdom       PSkipperEL             1  1.000000\n",
      "363    rgungdom   frederikdahler             3  1.933182\n",
      "364      sufnet     MaiVilladsen             1  1.000000\n",
      "365   venstredk       Altingetdk             1  1.000000\n",
      "366   venstredk      AnneStergaa             1  1.000000\n",
      "367   venstredk         AsgeriEU             1  1.000000\n",
      "368   venstredk    DanmarksNatur             1  1.000000\n",
      "369   venstredk      DanskEnergi             1  1.000000\n",
      "370   venstredk      DebattenDR2             1  1.000000\n",
      "371   venstredk          GSaabye             1  1.000000\n",
      "372   venstredk    JakobEllemann             3  1.933182\n",
      "373   venstredk   JanEJoergensen             2  1.515717\n",
      "374   venstredk    KentDamsgaard             1  1.000000\n",
      "375   venstredk  KristianLMadsen             2  1.515717\n",
      "376   venstredk  Kristian_Jensen             6  2.930156\n",
      "377   venstredk        L_Aagaard             2  1.515717\n",
      "378   venstredk        LarsKunov             1  1.000000\n",
      "379   venstredk     LarsSandahlS             3  1.933182\n",
      "380   venstredk      LineaLidell             8  3.482202\n",
      "381   venstredk  Loekkegaard_MEP             2  1.515717\n",
      "382   venstredk     LouiseElholm             1  1.000000\n",
      "383   venstredk    MariaGjerding             1  1.000000\n",
      "384   venstredk     MortenDahlin             1  1.000000\n",
      "385   venstredk      ThDanielsen             4  2.297397\n",
      "386   venstredk          aahlers             8  3.482202\n",
      "387   venstredk       brittbager             2  1.515717\n",
      "388   venstredk   larsclilleholt             6  2.930156\n",
      "389   venstredk       larsloekke             3  1.933182\n",
      "390   venstredk         lpsoebye             1  1.000000\n",
      "391   venstredk     marie_bjerre             3  1.933182\n",
      "392   venstredk        politikdr             1  1.000000\n",
      "393   venstredk         raesondk             1  1.000000\n",
      "394   venstredk     sophieloehde             7  3.214096\n",
      "395   venstredk    spisekammeret             1  1.000000\n",
      "396   venstredk   stephanie_lose             1  1.000000\n",
      "397   venstredk      troelslundp             2  1.515717\n",
      "398   venstredk      troelsranis             1  1.000000\n",
      "399   venstredk       tv2politik             2  1.515717\n",
      "400   venstredk       ulrichbang             1  1.000000\n"
     ]
    }
   ],
   "source": [
    "print(rt_nx_agg.tail(40))"
   ]
  },
  {
   "cell_type": "code",
   "execution_count": 26,
   "metadata": {},
   "outputs": [
    {
     "name": "stdout",
     "output_type": "stream",
     "text": [
      "Nodes in RT network: 321\n",
      "Edges in RT network: 401\n"
     ]
    }
   ],
   "source": [
    "#creating our edge_list of sender and reciever and adding an edge attribute\n",
    "G = nx.from_pandas_edgelist(rt_nx_agg,'screen_name','retweet_user',\n",
    "                            edge_attr=\"count\",\n",
    "                            create_using = nx.DiGraph())\n",
    "# Print the number of nodes and edges\n",
    "print('Nodes in RT network:', len(G.nodes()))\n",
    "print('Edges in RT network:', len(G.edges()))"
   ]
  },
  {
   "cell_type": "code",
   "execution_count": 27,
   "metadata": {
    "scrolled": false
   },
   "outputs": [],
   "source": [
    "for a in rt_nx_agg.screen_name.unique():\n",
    "    G.add_node(a, typ='party')"
   ]
  },
  {
   "cell_type": "code",
   "execution_count": 119,
   "metadata": {},
   "outputs": [],
   "source": [
    "nx.write_gexf(G, 'retweet_climate_subset.gexf')"
   ]
  },
  {
   "cell_type": "code",
   "execution_count": 123,
   "metadata": {},
   "outputs": [],
   "source": [
    "from pyvis import network as net"
   ]
  },
  {
   "cell_type": "code",
   "execution_count": 124,
   "metadata": {},
   "outputs": [
    {
     "data": {
      "text/html": [
       "\n",
       "        <iframe\n",
       "            width=\"700px\"\n",
       "            height=\"700px\"\n",
       "            src=\"climate_retweet_network.html\"\n",
       "            frameborder=\"0\"\n",
       "            allowfullscreen\n",
       "        ></iframe>\n",
       "        "
      ],
      "text/plain": [
       "<IPython.lib.display.IFrame at 0x7fee9895f250>"
      ]
     },
     "execution_count": 124,
     "metadata": {},
     "output_type": "execute_result"
    }
   ],
   "source": [
    "pyvis_graph = net.Network(notebook=True,\n",
    "                     height = \"700px\",\n",
    "                     width = \"700px\",\n",
    "                     bgcolor = \"#f6f2e9\")\n",
    "\n",
    "# set the physics layout of the network\n",
    "pyvis_graph.force_atlas_2based()\n",
    "\n",
    "# Add Networkx data\n",
    "pyvis_graph.from_nx(G)\n",
    "\n",
    "# Save and show\n",
    "pyvis_graph.show('climate_retweet_network.html')"
   ]
  },
  {
   "cell_type": "code",
   "execution_count": 121,
   "metadata": {},
   "outputs": [
    {
     "ename": "NetworkXError",
     "evalue": "random_state_index is incorrect",
     "output_type": "error",
     "traceback": [
      "\u001b[0;31m---------------------------------------------------------------------------\u001b[0m",
      "\u001b[0;31mIndexError\u001b[0m                                Traceback (most recent call last)",
      "\u001b[0;32m~/opt/anaconda3/lib/python3.8/site-packages/networkx/utils/decorators.py\u001b[0m in \u001b[0;36m_random_state\u001b[0;34m(func, *args, **kwargs)\u001b[0m\n\u001b[1;32m    395\u001b[0m         \u001b[0;32mtry\u001b[0m\u001b[0;34m:\u001b[0m\u001b[0;34m\u001b[0m\u001b[0;34m\u001b[0m\u001b[0m\n\u001b[0;32m--> 396\u001b[0;31m             \u001b[0mrandom_state_arg\u001b[0m \u001b[0;34m=\u001b[0m \u001b[0margs\u001b[0m\u001b[0;34m[\u001b[0m\u001b[0mrandom_state_index\u001b[0m\u001b[0;34m]\u001b[0m\u001b[0;34m\u001b[0m\u001b[0;34m\u001b[0m\u001b[0m\n\u001b[0m\u001b[1;32m    397\u001b[0m         \u001b[0;32mexcept\u001b[0m \u001b[0mTypeError\u001b[0m \u001b[0;32mas\u001b[0m \u001b[0me\u001b[0m\u001b[0;34m:\u001b[0m\u001b[0;34m\u001b[0m\u001b[0;34m\u001b[0m\u001b[0m\n",
      "\u001b[0;31mIndexError\u001b[0m: tuple index out of range",
      "\nThe above exception was the direct cause of the following exception:\n",
      "\u001b[0;31mNetworkXError\u001b[0m                             Traceback (most recent call last)",
      "\u001b[0;32m<ipython-input-121-5e9a34e73c08>\u001b[0m in \u001b[0;36m<module>\u001b[0;34m\u001b[0m\n\u001b[1;32m      3\u001b[0m \u001b[0;34m\u001b[0m\u001b[0m\n\u001b[1;32m      4\u001b[0m \u001b[0;31m# Draw the network\u001b[0m\u001b[0;34m\u001b[0m\u001b[0;34m\u001b[0m\u001b[0;34m\u001b[0m\u001b[0m\n\u001b[0;32m----> 5\u001b[0;31m nx.draw_networkx(G, \n\u001b[0m\u001b[1;32m      6\u001b[0m     \u001b[0mwith_labels\u001b[0m \u001b[0;34m=\u001b[0m \u001b[0;32mFalse\u001b[0m\u001b[0;34m,\u001b[0m\u001b[0;34m\u001b[0m\u001b[0;34m\u001b[0m\u001b[0m\n\u001b[1;32m      7\u001b[0m     \u001b[0mnode_size\u001b[0m \u001b[0;34m=\u001b[0m \u001b[0msizes\u001b[0m\u001b[0;34m,\u001b[0m\u001b[0;34m\u001b[0m\u001b[0;34m\u001b[0m\u001b[0m\n",
      "\u001b[0;32m~/opt/anaconda3/lib/python3.8/site-packages/networkx/drawing/nx_pylab.py\u001b[0m in \u001b[0;36mdraw_networkx\u001b[0;34m(G, pos, arrows, with_labels, **kwds)\u001b[0m\n\u001b[1;32m    331\u001b[0m \u001b[0;34m\u001b[0m\u001b[0m\n\u001b[1;32m    332\u001b[0m     \u001b[0;32mif\u001b[0m \u001b[0mpos\u001b[0m \u001b[0;32mis\u001b[0m \u001b[0;32mNone\u001b[0m\u001b[0;34m:\u001b[0m\u001b[0;34m\u001b[0m\u001b[0;34m\u001b[0m\u001b[0m\n\u001b[0;32m--> 333\u001b[0;31m         \u001b[0mpos\u001b[0m \u001b[0;34m=\u001b[0m \u001b[0mnx\u001b[0m\u001b[0;34m.\u001b[0m\u001b[0mdrawing\u001b[0m\u001b[0;34m.\u001b[0m\u001b[0mspring_layout\u001b[0m\u001b[0;34m(\u001b[0m\u001b[0mG\u001b[0m\u001b[0;34m)\u001b[0m  \u001b[0;31m# default to spring layout\u001b[0m\u001b[0;34m\u001b[0m\u001b[0;34m\u001b[0m\u001b[0m\n\u001b[0m\u001b[1;32m    334\u001b[0m \u001b[0;34m\u001b[0m\u001b[0m\n\u001b[1;32m    335\u001b[0m     \u001b[0mdraw_networkx_nodes\u001b[0m\u001b[0;34m(\u001b[0m\u001b[0mG\u001b[0m\u001b[0;34m,\u001b[0m \u001b[0mpos\u001b[0m\u001b[0;34m,\u001b[0m \u001b[0;34m**\u001b[0m\u001b[0mnode_kwds\u001b[0m\u001b[0;34m)\u001b[0m\u001b[0;34m\u001b[0m\u001b[0;34m\u001b[0m\u001b[0m\n",
      "\u001b[0;32m~/opt/anaconda3/lib/python3.8/site-packages/decorator.py\u001b[0m in \u001b[0;36mfun\u001b[0;34m(*args, **kw)\u001b[0m\n\u001b[1;32m    229\u001b[0m             \u001b[0;32mif\u001b[0m \u001b[0;32mnot\u001b[0m \u001b[0mkwsyntax\u001b[0m\u001b[0;34m:\u001b[0m\u001b[0;34m\u001b[0m\u001b[0;34m\u001b[0m\u001b[0m\n\u001b[1;32m    230\u001b[0m                 \u001b[0margs\u001b[0m\u001b[0;34m,\u001b[0m \u001b[0mkw\u001b[0m \u001b[0;34m=\u001b[0m \u001b[0mfix\u001b[0m\u001b[0;34m(\u001b[0m\u001b[0margs\u001b[0m\u001b[0;34m,\u001b[0m \u001b[0mkw\u001b[0m\u001b[0;34m,\u001b[0m \u001b[0msig\u001b[0m\u001b[0;34m)\u001b[0m\u001b[0;34m\u001b[0m\u001b[0;34m\u001b[0m\u001b[0m\n\u001b[0;32m--> 231\u001b[0;31m             \u001b[0;32mreturn\u001b[0m \u001b[0mcaller\u001b[0m\u001b[0;34m(\u001b[0m\u001b[0mfunc\u001b[0m\u001b[0;34m,\u001b[0m \u001b[0;34m*\u001b[0m\u001b[0;34m(\u001b[0m\u001b[0mextras\u001b[0m \u001b[0;34m+\u001b[0m \u001b[0margs\u001b[0m\u001b[0;34m)\u001b[0m\u001b[0;34m,\u001b[0m \u001b[0;34m**\u001b[0m\u001b[0mkw\u001b[0m\u001b[0;34m)\u001b[0m\u001b[0;34m\u001b[0m\u001b[0;34m\u001b[0m\u001b[0m\n\u001b[0m\u001b[1;32m    232\u001b[0m     \u001b[0mfun\u001b[0m\u001b[0;34m.\u001b[0m\u001b[0m__name__\u001b[0m \u001b[0;34m=\u001b[0m \u001b[0mfunc\u001b[0m\u001b[0;34m.\u001b[0m\u001b[0m__name__\u001b[0m\u001b[0;34m\u001b[0m\u001b[0;34m\u001b[0m\u001b[0m\n\u001b[1;32m    233\u001b[0m     \u001b[0mfun\u001b[0m\u001b[0;34m.\u001b[0m\u001b[0m__doc__\u001b[0m \u001b[0;34m=\u001b[0m \u001b[0mfunc\u001b[0m\u001b[0;34m.\u001b[0m\u001b[0m__doc__\u001b[0m\u001b[0;34m\u001b[0m\u001b[0;34m\u001b[0m\u001b[0m\n",
      "\u001b[0;32m~/opt/anaconda3/lib/python3.8/site-packages/networkx/utils/decorators.py\u001b[0m in \u001b[0;36m_random_state\u001b[0;34m(func, *args, **kwargs)\u001b[0m\n\u001b[1;32m    398\u001b[0m             \u001b[0;32mraise\u001b[0m \u001b[0mnx\u001b[0m\u001b[0;34m.\u001b[0m\u001b[0mNetworkXError\u001b[0m\u001b[0;34m(\u001b[0m\u001b[0;34m\"random_state_index must be an integer\"\u001b[0m\u001b[0;34m)\u001b[0m \u001b[0;32mfrom\u001b[0m \u001b[0me\u001b[0m\u001b[0;34m\u001b[0m\u001b[0;34m\u001b[0m\u001b[0m\n\u001b[1;32m    399\u001b[0m         \u001b[0;32mexcept\u001b[0m \u001b[0mIndexError\u001b[0m \u001b[0;32mas\u001b[0m \u001b[0me\u001b[0m\u001b[0;34m:\u001b[0m\u001b[0;34m\u001b[0m\u001b[0;34m\u001b[0m\u001b[0m\n\u001b[0;32m--> 400\u001b[0;31m             \u001b[0;32mraise\u001b[0m \u001b[0mnx\u001b[0m\u001b[0;34m.\u001b[0m\u001b[0mNetworkXError\u001b[0m\u001b[0;34m(\u001b[0m\u001b[0;34m\"random_state_index is incorrect\"\u001b[0m\u001b[0;34m)\u001b[0m \u001b[0;32mfrom\u001b[0m \u001b[0me\u001b[0m\u001b[0;34m\u001b[0m\u001b[0;34m\u001b[0m\u001b[0m\n\u001b[0m\u001b[1;32m    401\u001b[0m \u001b[0;34m\u001b[0m\u001b[0m\n\u001b[1;32m    402\u001b[0m         \u001b[0;31m# Create a numpy.random.RandomState instance\u001b[0m\u001b[0;34m\u001b[0m\u001b[0;34m\u001b[0m\u001b[0;34m\u001b[0m\u001b[0m\n",
      "\u001b[0;31mNetworkXError\u001b[0m: random_state_index is incorrect"
     ]
    }
   ],
   "source": [
    "# Create size list\n",
    "sizes = [x[1] for x in G.degree()]\n",
    "\n",
    "# Draw the network\n",
    "nx.draw_networkx(G, \n",
    "    with_labels = False, \n",
    "    node_size = sizes,\n",
    "    width = 0.1, alpha = 0.7,\n",
    "    arrowsize = 2, linewidths = 0)\n",
    "\n",
    "# Turn axis off and show\n",
    "plt.axis('off'); plt.show()"
   ]
  },
  {
   "cell_type": "markdown",
   "metadata": {},
   "source": [
    "## Mention network"
   ]
  },
  {
   "cell_type": "code",
   "execution_count": 86,
   "metadata": {},
   "outputs": [
    {
     "data": {
      "text/html": [
       "<div>\n",
       "<style scoped>\n",
       "    .dataframe tbody tr th:only-of-type {\n",
       "        vertical-align: middle;\n",
       "    }\n",
       "\n",
       "    .dataframe tbody tr th {\n",
       "        vertical-align: top;\n",
       "    }\n",
       "\n",
       "    .dataframe thead th {\n",
       "        text-align: right;\n",
       "    }\n",
       "</style>\n",
       "<table border=\"1\" class=\"dataframe\">\n",
       "  <thead>\n",
       "    <tr style=\"text-align: right;\">\n",
       "      <th></th>\n",
       "      <th>screen_name</th>\n",
       "      <th>is_retweet</th>\n",
       "      <th>tweet_txt</th>\n",
       "      <th>mentions</th>\n",
       "    </tr>\n",
       "  </thead>\n",
       "  <tbody>\n",
       "    <tr>\n",
       "      <th>7</th>\n",
       "      <td>alternativet_</td>\n",
       "      <td>True</td>\n",
       "      <td>Alternativet har spurgt alle støttepartier og ...</td>\n",
       "      <td>[]</td>\n",
       "    </tr>\n",
       "    <tr>\n",
       "      <th>16</th>\n",
       "      <td>alternativet_</td>\n",
       "      <td>True</td>\n",
       "      <td>Her til afslutningsdebatten mener statsministe...</td>\n",
       "      <td>['DenGroenneStud']</td>\n",
       "    </tr>\n",
       "    <tr>\n",
       "      <th>18</th>\n",
       "      <td>alternativet_</td>\n",
       "      <td>True</td>\n",
       "      <td>Tak til Mette Frederiksen for en fin tale til ...</td>\n",
       "      <td>[]</td>\n",
       "    </tr>\n",
       "    <tr>\n",
       "      <th>46</th>\n",
       "      <td>alternativet_</td>\n",
       "      <td>True</td>\n",
       "      <td>.@informeren har spurgt partierne ift klimabor...</td>\n",
       "      <td>['informeren', 'dkgreen', 'dkpol']</td>\n",
       "    </tr>\n",
       "    <tr>\n",
       "      <th>50</th>\n",
       "      <td>alternativet_</td>\n",
       "      <td>True</td>\n",
       "      <td>Lørdag deltog jeg i @klimamarchen. \\n\\nDet er ...</td>\n",
       "      <td>['klimamarchen', 'alternativet_', 'Naturmodet']</td>\n",
       "    </tr>\n",
       "  </tbody>\n",
       "</table>\n",
       "</div>"
      ],
      "text/plain": [
       "      screen_name  is_retweet  \\\n",
       "7   alternativet_        True   \n",
       "16  alternativet_        True   \n",
       "18  alternativet_        True   \n",
       "46  alternativet_        True   \n",
       "50  alternativet_        True   \n",
       "\n",
       "                                            tweet_txt  \\\n",
       "7   Alternativet har spurgt alle støttepartier og ...   \n",
       "16  Her til afslutningsdebatten mener statsministe...   \n",
       "18  Tak til Mette Frederiksen for en fin tale til ...   \n",
       "46  .@informeren har spurgt partierne ift klimabor...   \n",
       "50  Lørdag deltog jeg i @klimamarchen. \\n\\nDet er ...   \n",
       "\n",
       "                                           mentions  \n",
       "7                                                []  \n",
       "16                               ['DenGroenneStud']  \n",
       "18                                               []  \n",
       "46               ['informeren', 'dkgreen', 'dkpol']  \n",
       "50  ['klimamarchen', 'alternativet_', 'Naturmodet']  "
      ]
     },
     "execution_count": 86,
     "metadata": {},
     "output_type": "execute_result"
    }
   ],
   "source": [
    "klima_mention = klima_rt.copy()\n",
    "klimamention = klima_mention.drop(['retweet_user'], axis = 1)\n",
    "klimamention.head()"
   ]
  },
  {
   "cell_type": "code",
   "execution_count": 95,
   "metadata": {},
   "outputs": [],
   "source": [
    "mentions = klimamention['mentions']"
   ]
  },
  {
   "cell_type": "code",
   "execution_count": 89,
   "metadata": {},
   "outputs": [],
   "source": [
    "import re"
   ]
  },
  {
   "cell_type": "code",
   "execution_count": 96,
   "metadata": {},
   "outputs": [],
   "source": [
    "mentions = mentions.astype(str)"
   ]
  },
  {
   "cell_type": "code",
   "execution_count": 98,
   "metadata": {},
   "outputs": [
    {
     "data": {
      "text/plain": [
       "pandas.core.series.Series"
      ]
     },
     "execution_count": 98,
     "metadata": {},
     "output_type": "execute_result"
    }
   ],
   "source": [
    "type(mentions)"
   ]
  },
  {
   "cell_type": "code",
   "execution_count": 94,
   "metadata": {
    "scrolled": true
   },
   "outputs": [
    {
     "data": {
      "text/plain": [
       "7        None\n",
       "16       None\n",
       "18       None\n",
       "46       None\n",
       "50       None\n",
       "         ... \n",
       "22758    None\n",
       "22763    None\n",
       "22765    None\n",
       "22766    None\n",
       "22770    None\n",
       "Name: mentions, Length: 1532, dtype: object"
      ]
     },
     "execution_count": 94,
     "metadata": {},
     "output_type": "execute_result"
    }
   ],
   "source": [
    "mentions = mentions.apply(lambda x: re.sub ('\\W', '', x))\n",
    "#mentions = mentions.apply(lambda x: re.sub (']', '', x))\n",
    "mentions\n"
   ]
  },
  {
   "cell_type": "code",
   "execution_count": 50,
   "metadata": {},
   "outputs": [
    {
     "data": {
      "text/html": [
       "<div>\n",
       "<style scoped>\n",
       "    .dataframe tbody tr th:only-of-type {\n",
       "        vertical-align: middle;\n",
       "    }\n",
       "\n",
       "    .dataframe tbody tr th {\n",
       "        vertical-align: top;\n",
       "    }\n",
       "\n",
       "    .dataframe thead th {\n",
       "        text-align: right;\n",
       "    }\n",
       "</style>\n",
       "<table border=\"1\" class=\"dataframe\">\n",
       "  <thead>\n",
       "    <tr style=\"text-align: right;\">\n",
       "      <th></th>\n",
       "      <th>screen_name</th>\n",
       "      <th>is_retweet</th>\n",
       "      <th>tweet_txt</th>\n",
       "      <th>mentions</th>\n",
       "    </tr>\n",
       "  </thead>\n",
       "  <tbody>\n",
       "    <tr>\n",
       "      <th>7</th>\n",
       "      <td>alternativet_</td>\n",
       "      <td>True</td>\n",
       "      <td>Alternativet har spurgt alle støttepartier og ...</td>\n",
       "      <td>[]</td>\n",
       "    </tr>\n",
       "    <tr>\n",
       "      <th>16</th>\n",
       "      <td>alternativet_</td>\n",
       "      <td>True</td>\n",
       "      <td>Her til afslutningsdebatten mener statsministe...</td>\n",
       "      <td>['DenGroenneStud']</td>\n",
       "    </tr>\n",
       "    <tr>\n",
       "      <th>18</th>\n",
       "      <td>alternativet_</td>\n",
       "      <td>True</td>\n",
       "      <td>Tak til Mette Frederiksen for en fin tale til ...</td>\n",
       "      <td>[]</td>\n",
       "    </tr>\n",
       "    <tr>\n",
       "      <th>46</th>\n",
       "      <td>alternativet_</td>\n",
       "      <td>True</td>\n",
       "      <td>.@informeren har spurgt partierne ift klimabor...</td>\n",
       "      <td>['informeren', 'dkgreen', 'dkpol']</td>\n",
       "    </tr>\n",
       "    <tr>\n",
       "      <th>50</th>\n",
       "      <td>alternativet_</td>\n",
       "      <td>True</td>\n",
       "      <td>Lørdag deltog jeg i @klimamarchen. \\n\\nDet er ...</td>\n",
       "      <td>['klimamarchen', 'alternativet_', 'Naturmodet']</td>\n",
       "    </tr>\n",
       "    <tr>\n",
       "      <th>...</th>\n",
       "      <td>...</td>\n",
       "      <td>...</td>\n",
       "      <td>...</td>\n",
       "      <td>...</td>\n",
       "    </tr>\n",
       "    <tr>\n",
       "      <th>22758</th>\n",
       "      <td>rgungdom</td>\n",
       "      <td>True</td>\n",
       "      <td>Radikale gør det for nemt for regeringen at sl...</td>\n",
       "      <td>[]</td>\n",
       "    </tr>\n",
       "    <tr>\n",
       "      <th>22763</th>\n",
       "      <td>rgungdom</td>\n",
       "      <td>True</td>\n",
       "      <td>\"Der var lige netop, derfor vi skulle have en ...</td>\n",
       "      <td>['PSkipperEL']</td>\n",
       "    </tr>\n",
       "    <tr>\n",
       "      <th>22765</th>\n",
       "      <td>rgungdom</td>\n",
       "      <td>True</td>\n",
       "      <td>Der sker for lidt, og det sker for langsomt. V...</td>\n",
       "      <td>[]</td>\n",
       "    </tr>\n",
       "    <tr>\n",
       "      <th>22766</th>\n",
       "      <td>rgungdom</td>\n",
       "      <td>True</td>\n",
       "      <td>Succes! Enhedslisten valgte på sit Årsmøde at ...</td>\n",
       "      <td>['rgungdom']</td>\n",
       "    </tr>\n",
       "    <tr>\n",
       "      <th>22770</th>\n",
       "      <td>rgungdom</td>\n",
       "      <td>True</td>\n",
       "      <td>Til marts samles unge socialister, klimaaktivi...</td>\n",
       "      <td>[]</td>\n",
       "    </tr>\n",
       "  </tbody>\n",
       "</table>\n",
       "<p>1532 rows × 4 columns</p>\n",
       "</div>"
      ],
      "text/plain": [
       "         screen_name  is_retweet  \\\n",
       "7      alternativet_        True   \n",
       "16     alternativet_        True   \n",
       "18     alternativet_        True   \n",
       "46     alternativet_        True   \n",
       "50     alternativet_        True   \n",
       "...              ...         ...   \n",
       "22758       rgungdom        True   \n",
       "22763       rgungdom        True   \n",
       "22765       rgungdom        True   \n",
       "22766       rgungdom        True   \n",
       "22770       rgungdom        True   \n",
       "\n",
       "                                               tweet_txt  \\\n",
       "7      Alternativet har spurgt alle støttepartier og ...   \n",
       "16     Her til afslutningsdebatten mener statsministe...   \n",
       "18     Tak til Mette Frederiksen for en fin tale til ...   \n",
       "46     .@informeren har spurgt partierne ift klimabor...   \n",
       "50     Lørdag deltog jeg i @klimamarchen. \\n\\nDet er ...   \n",
       "...                                                  ...   \n",
       "22758  Radikale gør det for nemt for regeringen at sl...   \n",
       "22763  \"Der var lige netop, derfor vi skulle have en ...   \n",
       "22765  Der sker for lidt, og det sker for langsomt. V...   \n",
       "22766  Succes! Enhedslisten valgte på sit Årsmøde at ...   \n",
       "22770  Til marts samles unge socialister, klimaaktivi...   \n",
       "\n",
       "                                              mentions  \n",
       "7                                                   []  \n",
       "16                                  ['DenGroenneStud']  \n",
       "18                                                  []  \n",
       "46                  ['informeren', 'dkgreen', 'dkpol']  \n",
       "50     ['klimamarchen', 'alternativet_', 'Naturmodet']  \n",
       "...                                                ...  \n",
       "22758                                               []  \n",
       "22763                                   ['PSkipperEL']  \n",
       "22765                                               []  \n",
       "22766                                     ['rgungdom']  \n",
       "22770                                               []  \n",
       "\n",
       "[1532 rows x 4 columns]"
      ]
     },
     "execution_count": 50,
     "metadata": {},
     "output_type": "execute_result"
    }
   ],
   "source": [
    "klimamention"
   ]
  },
  {
   "cell_type": "code",
   "execution_count": 53,
   "metadata": {},
   "outputs": [
    {
     "name": "stdout",
     "output_type": "stream",
     "text": [
      "17\n",
      "369\n"
     ]
    }
   ],
   "source": [
    "\n",
    "#no. of parties retweeting about climate\n",
    "print(len(klimamention.screen_name.unique()))\n",
    "\n",
    "#no. of actors being retweeted about climate\n",
    "print(len(klimamention.mentions.unique()))"
   ]
  },
  {
   "cell_type": "code",
   "execution_count": 54,
   "metadata": {},
   "outputs": [
    {
     "name": "stdout",
     "output_type": "stream",
     "text": [
      "        screen_name                                           mentions  \\\n",
      "0   AlternativeUnge        ['ActionAidDK', 'noedhjaelp', 'Greenpeace']   \n",
      "1   AlternativeUnge                  ['AlternativeUnge', 'tvmidtvest']   \n",
      "2   AlternativeUnge                                   ['Alternativet']   \n",
      "3   AlternativeUnge                                    ['CPHAirports']   \n",
      "4   AlternativeUnge                 ['ChristianPoll', 'alternativet_']   \n",
      "5   AlternativeUnge                      ['DanJoergensen', 'Spolitik']   \n",
      "6   AlternativeUnge                                  ['DanJoergensen']   \n",
      "7   AlternativeUnge                                    ['DanskDf1995']   \n",
      "8   AlternativeUnge                                      ['EU_Spring']   \n",
      "9   AlternativeUnge                  ['Enhedslisten', 'alternativet_']   \n",
      "10  AlternativeUnge          ['Enhedslisten', 'radikale', 'SFpolitik']   \n",
      "11  AlternativeUnge                                  ['GretaThunberg']   \n",
      "12  AlternativeUnge                                     ['HenrikGudm']   \n",
      "13  AlternativeUnge                          ['IdaAuken', 'politiken']   \n",
      "14  AlternativeUnge          ['KJungdal', 'DanJoergensen', 'Spolitik']   \n",
      "15  AlternativeUnge                ['Kristianthdahl', 'alternativet_']   \n",
      "16  AlternativeUnge  ['Kristianthdahl', 'dkpol', 'politikdr', 'saae...   \n",
      "17  AlternativeUnge                                 ['Kristianthdahl']   \n",
      "18  AlternativeUnge                                ['LiberalAlliance']   \n",
      "19  AlternativeUnge                                  ['MikeBloomberg']   \n",
      "20  AlternativeUnge                                        ['NWammen']   \n",
      "21  AlternativeUnge                                ['Pia_Kjaersgaard']   \n",
      "22  AlternativeUnge                                     ['TScavenius']   \n",
      "23  AlternativeUnge  ['alternativet_', 'AlternativeUnge', 'KbhAlter...   \n",
      "24  AlternativeUnge  ['alternativet_', 'alternativet_', 'Enhedslist...   \n",
      "25  AlternativeUnge  ['alternativet_', 'rasmusnordqvist', 'politiken']   \n",
      "26  AlternativeUnge  ['alternativet_', 'rasmusnordqvist', 'tv2newsdk']   \n",
      "27  AlternativeUnge   ['alternativet_', 'uffeelbaek', 'ChristianPoll']   \n",
      "28  AlternativeUnge                    ['alternativet_', 'uffeelbaek']   \n",
      "29  AlternativeUnge                                  ['alternativet_']   \n",
      "30  AlternativeUnge                                    ['dr2deadline']   \n",
      "31  AlternativeUnge                       ['g_mogensen', 'uffeelbaek']   \n",
      "32  AlternativeUnge                   ['helenehagel', 'alternativet_']   \n",
      "33  AlternativeUnge                                ['iLoveGlobalGoal']   \n",
      "34  AlternativeUnge                                     ['informeren']   \n",
      "35  AlternativeUnge                  ['jrgensteenniels', 'informeren']   \n",
      "36  AlternativeUnge  ['jyllandsposten', 'AlternativeUnge', 'Louisel...   \n",
      "37  AlternativeUnge                                 ['jyllandsposten']   \n",
      "38  AlternativeUnge                                    ['klimaraadet']   \n",
      "39  AlternativeUnge                   ['larsloekke', 'larsclilleholt']   \n",
      "\n",
      "    simple_count     count  \n",
      "0              1  1.000000  \n",
      "1              1  1.000000  \n",
      "2              1  1.000000  \n",
      "3              1  1.000000  \n",
      "4              1  1.000000  \n",
      "5              1  1.000000  \n",
      "6              2  1.515717  \n",
      "7              1  1.000000  \n",
      "8              2  1.515717  \n",
      "9              2  1.515717  \n",
      "10             1  1.000000  \n",
      "11             3  1.933182  \n",
      "12             1  1.000000  \n",
      "13             1  1.000000  \n",
      "14             1  1.000000  \n",
      "15             1  1.000000  \n",
      "16             1  1.000000  \n",
      "17             1  1.000000  \n",
      "18             1  1.000000  \n",
      "19             1  1.000000  \n",
      "20             1  1.000000  \n",
      "21             2  1.515717  \n",
      "22             1  1.000000  \n",
      "23             1  1.000000  \n",
      "24             1  1.000000  \n",
      "25             1  1.000000  \n",
      "26             1  1.000000  \n",
      "27             1  1.000000  \n",
      "28             1  1.000000  \n",
      "29             9  3.737193  \n",
      "30             2  1.515717  \n",
      "31             1  1.000000  \n",
      "32             1  1.000000  \n",
      "33             1  1.000000  \n",
      "34             1  1.000000  \n",
      "35             1  1.000000  \n",
      "36             1  1.000000  \n",
      "37             1  1.000000  \n",
      "38             1  1.000000  \n",
      "39             1  1.000000  \n",
      "(479, 4)\n"
     ]
    }
   ],
   "source": [
    "m_nx_agg = klimamention.groupby([\"screen_name\", \"mentions\"]).size().reset_index(name='simple_count')\n",
    "#adding a count where we weigh the retweets of the same actor\n",
    "m_nx_agg[\"count\"] = m_nx_agg[\"simple_count\"]**0.6\n",
    "#what does it look like?\n",
    "print(m_nx_agg.head(40))\n",
    "print(m_nx_agg.shape)"
   ]
  },
  {
   "cell_type": "code",
   "execution_count": 59,
   "metadata": {},
   "outputs": [],
   "source": [
    "#creating our edge_list of sender and reciever and adding an edge attribute\n",
    "Gm = nx.from_pandas_edgelist(m_nx_agg,'screen_name','mentions',\n",
    "                            edge_attr=\"count\",\n",
    "                            create_using = nx.DiGraph())"
   ]
  },
  {
   "cell_type": "code",
   "execution_count": 60,
   "metadata": {
    "scrolled": true
   },
   "outputs": [],
   "source": [
    "for a in m_nx_agg.screen_name.unique():\n",
    "    Gm.add_node(a, typ='party')"
   ]
  },
  {
   "cell_type": "code",
   "execution_count": 61,
   "metadata": {},
   "outputs": [
    {
     "name": "stdout",
     "output_type": "stream",
     "text": [
      "Nodes in mention network: 386\n",
      "Edges in mention network: 479\n"
     ]
    }
   ],
   "source": [
    "# Print the number of nodes and edges\n",
    "print('Nodes in mention network:', len(Gm.nodes()))\n",
    "print('Edges in mention network:', len(Gm.edges()))"
   ]
  },
  {
   "cell_type": "code",
   "execution_count": 62,
   "metadata": {},
   "outputs": [],
   "source": [
    "nx.write_gexf(Gm, 'mentions_climate.gexf')"
   ]
  },
  {
   "cell_type": "code",
   "execution_count": 65,
   "metadata": {},
   "outputs": [],
   "source": [
    "from pyvis import network as net\n",
    "\n",
    "pyvis_m_graph = net.Network(notebook = True, height = '700px', width = '700px', bgcolor = '#f6f2e9')"
   ]
  },
  {
   "cell_type": "code",
   "execution_count": 67,
   "metadata": {},
   "outputs": [
    {
     "data": {
      "text/html": [
       "\n",
       "        <iframe\n",
       "            width=\"700px\"\n",
       "            height=\"700px\"\n",
       "            src=\"climate_mentions_nw.html\"\n",
       "            frameborder=\"0\"\n",
       "            allowfullscreen\n",
       "        ></iframe>\n",
       "        "
      ],
      "text/plain": [
       "<IPython.lib.display.IFrame at 0x7fc3588dbd30>"
      ]
     },
     "execution_count": 67,
     "metadata": {},
     "output_type": "execute_result"
    }
   ],
   "source": [
    "pyvis_m_graph.force_atlas_2based()\n",
    "pyvis_m_graph.from_nx(Gm)\n",
    "\n",
    "pyvis_m_graph.show('climate_mentions_nw.html')"
   ]
  },
  {
   "cell_type": "code",
   "execution_count": null,
   "metadata": {},
   "outputs": [],
   "source": []
  },
  {
   "cell_type": "code",
   "execution_count": 68,
   "metadata": {},
   "outputs": [
    {
     "ename": "NetworkXError",
     "evalue": "random_state_index is incorrect",
     "output_type": "error",
     "traceback": [
      "\u001b[0;31m---------------------------------------------------------------------------\u001b[0m",
      "\u001b[0;31mIndexError\u001b[0m                                Traceback (most recent call last)",
      "\u001b[0;32m~/opt/anaconda3/lib/python3.8/site-packages/networkx/utils/decorators.py\u001b[0m in \u001b[0;36m_random_state\u001b[0;34m(func, *args, **kwargs)\u001b[0m\n\u001b[1;32m    395\u001b[0m         \u001b[0;32mtry\u001b[0m\u001b[0;34m:\u001b[0m\u001b[0;34m\u001b[0m\u001b[0;34m\u001b[0m\u001b[0m\n\u001b[0;32m--> 396\u001b[0;31m             \u001b[0mrandom_state_arg\u001b[0m \u001b[0;34m=\u001b[0m \u001b[0margs\u001b[0m\u001b[0;34m[\u001b[0m\u001b[0mrandom_state_index\u001b[0m\u001b[0;34m]\u001b[0m\u001b[0;34m\u001b[0m\u001b[0;34m\u001b[0m\u001b[0m\n\u001b[0m\u001b[1;32m    397\u001b[0m         \u001b[0;32mexcept\u001b[0m \u001b[0mTypeError\u001b[0m \u001b[0;32mas\u001b[0m \u001b[0me\u001b[0m\u001b[0;34m:\u001b[0m\u001b[0;34m\u001b[0m\u001b[0;34m\u001b[0m\u001b[0m\n",
      "\u001b[0;31mIndexError\u001b[0m: tuple index out of range",
      "\nThe above exception was the direct cause of the following exception:\n",
      "\u001b[0;31mNetworkXError\u001b[0m                             Traceback (most recent call last)",
      "\u001b[0;32m<ipython-input-68-203d27381576>\u001b[0m in \u001b[0;36m<module>\u001b[0;34m\u001b[0m\n\u001b[1;32m      3\u001b[0m \u001b[0;34m\u001b[0m\u001b[0m\n\u001b[1;32m      4\u001b[0m \u001b[0;31m# Draw the network\u001b[0m\u001b[0;34m\u001b[0m\u001b[0;34m\u001b[0m\u001b[0;34m\u001b[0m\u001b[0m\n\u001b[0;32m----> 5\u001b[0;31m nx.draw_networkx(Gm, \n\u001b[0m\u001b[1;32m      6\u001b[0m     \u001b[0mwith_labels\u001b[0m \u001b[0;34m=\u001b[0m \u001b[0;32mFalse\u001b[0m\u001b[0;34m,\u001b[0m\u001b[0;34m\u001b[0m\u001b[0;34m\u001b[0m\u001b[0m\n\u001b[1;32m      7\u001b[0m     \u001b[0mnode_size\u001b[0m \u001b[0;34m=\u001b[0m \u001b[0msizes\u001b[0m\u001b[0;34m,\u001b[0m\u001b[0;34m\u001b[0m\u001b[0;34m\u001b[0m\u001b[0m\n",
      "\u001b[0;32m~/opt/anaconda3/lib/python3.8/site-packages/networkx/drawing/nx_pylab.py\u001b[0m in \u001b[0;36mdraw_networkx\u001b[0;34m(G, pos, arrows, with_labels, **kwds)\u001b[0m\n\u001b[1;32m    331\u001b[0m \u001b[0;34m\u001b[0m\u001b[0m\n\u001b[1;32m    332\u001b[0m     \u001b[0;32mif\u001b[0m \u001b[0mpos\u001b[0m \u001b[0;32mis\u001b[0m \u001b[0;32mNone\u001b[0m\u001b[0;34m:\u001b[0m\u001b[0;34m\u001b[0m\u001b[0;34m\u001b[0m\u001b[0m\n\u001b[0;32m--> 333\u001b[0;31m         \u001b[0mpos\u001b[0m \u001b[0;34m=\u001b[0m \u001b[0mnx\u001b[0m\u001b[0;34m.\u001b[0m\u001b[0mdrawing\u001b[0m\u001b[0;34m.\u001b[0m\u001b[0mspring_layout\u001b[0m\u001b[0;34m(\u001b[0m\u001b[0mG\u001b[0m\u001b[0;34m)\u001b[0m  \u001b[0;31m# default to spring layout\u001b[0m\u001b[0;34m\u001b[0m\u001b[0;34m\u001b[0m\u001b[0m\n\u001b[0m\u001b[1;32m    334\u001b[0m \u001b[0;34m\u001b[0m\u001b[0m\n\u001b[1;32m    335\u001b[0m     \u001b[0mdraw_networkx_nodes\u001b[0m\u001b[0;34m(\u001b[0m\u001b[0mG\u001b[0m\u001b[0;34m,\u001b[0m \u001b[0mpos\u001b[0m\u001b[0;34m,\u001b[0m \u001b[0;34m**\u001b[0m\u001b[0mnode_kwds\u001b[0m\u001b[0;34m)\u001b[0m\u001b[0;34m\u001b[0m\u001b[0;34m\u001b[0m\u001b[0m\n",
      "\u001b[0;32m~/opt/anaconda3/lib/python3.8/site-packages/decorator.py\u001b[0m in \u001b[0;36mfun\u001b[0;34m(*args, **kw)\u001b[0m\n\u001b[1;32m    229\u001b[0m             \u001b[0;32mif\u001b[0m \u001b[0;32mnot\u001b[0m \u001b[0mkwsyntax\u001b[0m\u001b[0;34m:\u001b[0m\u001b[0;34m\u001b[0m\u001b[0;34m\u001b[0m\u001b[0m\n\u001b[1;32m    230\u001b[0m                 \u001b[0margs\u001b[0m\u001b[0;34m,\u001b[0m \u001b[0mkw\u001b[0m \u001b[0;34m=\u001b[0m \u001b[0mfix\u001b[0m\u001b[0;34m(\u001b[0m\u001b[0margs\u001b[0m\u001b[0;34m,\u001b[0m \u001b[0mkw\u001b[0m\u001b[0;34m,\u001b[0m \u001b[0msig\u001b[0m\u001b[0;34m)\u001b[0m\u001b[0;34m\u001b[0m\u001b[0;34m\u001b[0m\u001b[0m\n\u001b[0;32m--> 231\u001b[0;31m             \u001b[0;32mreturn\u001b[0m \u001b[0mcaller\u001b[0m\u001b[0;34m(\u001b[0m\u001b[0mfunc\u001b[0m\u001b[0;34m,\u001b[0m \u001b[0;34m*\u001b[0m\u001b[0;34m(\u001b[0m\u001b[0mextras\u001b[0m \u001b[0;34m+\u001b[0m \u001b[0margs\u001b[0m\u001b[0;34m)\u001b[0m\u001b[0;34m,\u001b[0m \u001b[0;34m**\u001b[0m\u001b[0mkw\u001b[0m\u001b[0;34m)\u001b[0m\u001b[0;34m\u001b[0m\u001b[0;34m\u001b[0m\u001b[0m\n\u001b[0m\u001b[1;32m    232\u001b[0m     \u001b[0mfun\u001b[0m\u001b[0;34m.\u001b[0m\u001b[0m__name__\u001b[0m \u001b[0;34m=\u001b[0m \u001b[0mfunc\u001b[0m\u001b[0;34m.\u001b[0m\u001b[0m__name__\u001b[0m\u001b[0;34m\u001b[0m\u001b[0;34m\u001b[0m\u001b[0m\n\u001b[1;32m    233\u001b[0m     \u001b[0mfun\u001b[0m\u001b[0;34m.\u001b[0m\u001b[0m__doc__\u001b[0m \u001b[0;34m=\u001b[0m \u001b[0mfunc\u001b[0m\u001b[0;34m.\u001b[0m\u001b[0m__doc__\u001b[0m\u001b[0;34m\u001b[0m\u001b[0;34m\u001b[0m\u001b[0m\n",
      "\u001b[0;32m~/opt/anaconda3/lib/python3.8/site-packages/networkx/utils/decorators.py\u001b[0m in \u001b[0;36m_random_state\u001b[0;34m(func, *args, **kwargs)\u001b[0m\n\u001b[1;32m    398\u001b[0m             \u001b[0;32mraise\u001b[0m \u001b[0mnx\u001b[0m\u001b[0;34m.\u001b[0m\u001b[0mNetworkXError\u001b[0m\u001b[0;34m(\u001b[0m\u001b[0;34m\"random_state_index must be an integer\"\u001b[0m\u001b[0;34m)\u001b[0m \u001b[0;32mfrom\u001b[0m \u001b[0me\u001b[0m\u001b[0;34m\u001b[0m\u001b[0;34m\u001b[0m\u001b[0m\n\u001b[1;32m    399\u001b[0m         \u001b[0;32mexcept\u001b[0m \u001b[0mIndexError\u001b[0m \u001b[0;32mas\u001b[0m \u001b[0me\u001b[0m\u001b[0;34m:\u001b[0m\u001b[0;34m\u001b[0m\u001b[0;34m\u001b[0m\u001b[0m\n\u001b[0;32m--> 400\u001b[0;31m             \u001b[0;32mraise\u001b[0m \u001b[0mnx\u001b[0m\u001b[0;34m.\u001b[0m\u001b[0mNetworkXError\u001b[0m\u001b[0;34m(\u001b[0m\u001b[0;34m\"random_state_index is incorrect\"\u001b[0m\u001b[0;34m)\u001b[0m \u001b[0;32mfrom\u001b[0m \u001b[0me\u001b[0m\u001b[0;34m\u001b[0m\u001b[0;34m\u001b[0m\u001b[0m\n\u001b[0m\u001b[1;32m    401\u001b[0m \u001b[0;34m\u001b[0m\u001b[0m\n\u001b[1;32m    402\u001b[0m         \u001b[0;31m# Create a numpy.random.RandomState instance\u001b[0m\u001b[0;34m\u001b[0m\u001b[0;34m\u001b[0m\u001b[0;34m\u001b[0m\u001b[0m\n",
      "\u001b[0;31mNetworkXError\u001b[0m: random_state_index is incorrect"
     ]
    }
   ],
   "source": [
    "# Create size list\n",
    "sizes = [x[1] for x in Gm.degree()]\n",
    "\n",
    "# Draw the network\n",
    "nx.draw_networkx(Gm, \n",
    "    with_labels = False, \n",
    "    node_size = sizes,\n",
    "    width = 0.1, alpha = 0.7,\n",
    "    arrowsize = 2, linewidths = 0)\n",
    "\n",
    "# Turn axis off and show\n",
    "plt.axis('off'); plt.show()"
   ]
  },
  {
   "cell_type": "code",
   "execution_count": null,
   "metadata": {},
   "outputs": [],
   "source": []
  }
 ],
 "metadata": {
  "kernelspec": {
   "display_name": "Python 3",
   "language": "python",
   "name": "python3"
  },
  "language_info": {
   "codemirror_mode": {
    "name": "ipython",
    "version": 3
   },
   "file_extension": ".py",
   "mimetype": "text/x-python",
   "name": "python",
   "nbconvert_exporter": "python",
   "pygments_lexer": "ipython3",
   "version": "3.8.8"
  }
 },
 "nbformat": 4,
 "nbformat_minor": 4
}
